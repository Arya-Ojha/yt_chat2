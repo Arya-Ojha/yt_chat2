{
 "cells": [
  {
   "cell_type": "code",
   "execution_count": 71,
   "id": "805a7836",
   "metadata": {},
   "outputs": [],
   "source": [
    "from youtube_transcript_api import YouTubeTranscriptApi, TranscriptsDisabled\n",
    "from langchain.text_splitter import RecursiveCharacterTextSplitter\n",
    "from langchain_google_genai import ChatGoogleGenerativeAI , GoogleGenerativeAIEmbeddings\n",
    "from langchain_core.runnables import RunnableParallel , RunnableLambda , RunnablePassthrough\n",
    "from langchain_core.output_parsers import StrOutputParser\n",
    "from langchain_community.vectorstores import FAISS\n",
    "from langchain_core.prompts import PromptTemplate\n",
    "from dotenv import load_dotenv"
   ]
  },
  {
   "cell_type": "code",
   "execution_count": 72,
   "id": "97160a1b",
   "metadata": {},
   "outputs": [
    {
     "data": {
      "text/plain": [
       "True"
      ]
     },
     "execution_count": 72,
     "metadata": {},
     "output_type": "execute_result"
    }
   ],
   "source": [
    "load_dotenv()"
   ]
  },
  {
   "cell_type": "code",
   "execution_count": 73,
   "id": "44f75e88",
   "metadata": {},
   "outputs": [],
   "source": [
    "llm = ChatGoogleGenerativeAI(model=\"gemini-2.5-flash\")"
   ]
  },
  {
   "cell_type": "code",
   "execution_count": 74,
   "id": "08a7cb18",
   "metadata": {},
   "outputs": [],
   "source": [
    "video_id = \"lRjprPQHuXw\"\n",
    "\n",
    "try:\n",
    "    transcript_list = YouTubeTranscriptApi.get_transcript(video_id, languages=['en'])\n",
    "    transcript = \" \".join(chunk['text'] for chunk in transcript_list)\n",
    "except TranscriptsDisabled:\n",
    "    print('No caption for this video') \n",
    "    "
   ]
  },
  {
   "cell_type": "code",
   "execution_count": 75,
   "id": "57ba4f22",
   "metadata": {},
   "outputs": [],
   "source": [
    "splitter = RecursiveCharacterTextSplitter(chunk_size = 1000, chunk_overlap = 200)\n",
    "chunk = splitter.create_documents([transcript])\n"
   ]
  },
  {
   "cell_type": "code",
   "execution_count": 76,
   "id": "5538d81d",
   "metadata": {},
   "outputs": [
    {
     "name": "stdout",
     "output_type": "stream",
     "text": [
      "\n"
     ]
    }
   ],
   "source": [
    "embeddings = GoogleGenerativeAIEmbeddings(model=\"models/text-embedding-004\")\n",
    "vector_store = FAISS.from_documents(chunk,embeddings)\n",
    "print()"
   ]
  },
  {
   "cell_type": "code",
   "execution_count": 77,
   "id": "c53bb5fb",
   "metadata": {},
   "outputs": [],
   "source": [
    "retriver = vector_store.as_retriever(search_type = \"similarity\", search_kwarg = {'k':4} )"
   ]
  },
  {
   "cell_type": "code",
   "execution_count": 78,
   "id": "6eed77da",
   "metadata": {},
   "outputs": [],
   "source": [
    "prompt = PromptTemplate(\n",
    "    template=\"\"\"\n",
    "        You are a helpful assistant.\n",
    "        Answer ONLY from the provided transcript context.\n",
    "        If the context is insufficient, just say you don't know.\n",
    "\n",
    "        {context}\n",
    "        Question: {question}\n",
    "    \"\"\",\n",
    "    input_variables = ['context', 'question']\n",
    ")"
   ]
  },
  {
   "cell_type": "code",
   "execution_count": 79,
   "id": "7f56573e",
   "metadata": {},
   "outputs": [],
   "source": [
    "context_text = '\\n\\n'.join(doc.page_content for doc in retrived_doc)\n",
    "\n",
    "final_prompt = prompt.invoke({'context': context_text, 'question': question})"
   ]
  },
  {
   "cell_type": "code",
   "execution_count": 80,
   "id": "bfc3ad8a",
   "metadata": {},
   "outputs": [],
   "source": [
    "def formate_doc(retrived_doc):\n",
    "    context_text = '\\n\\n'.join(doc.page_content for doc in retrived_doc)\n",
    "    return context_text"
   ]
  },
  {
   "cell_type": "code",
   "execution_count": 81,
   "id": "e686a6c0",
   "metadata": {},
   "outputs": [],
   "source": [
    "parallel_chain = RunnableParallel({\n",
    "    'context': retriver | RunnableLambda(formate_doc),\n",
    "    'question': RunnablePassthrough()\n",
    "})"
   ]
  },
  {
   "cell_type": "code",
   "execution_count": 82,
   "id": "23b43c64",
   "metadata": {},
   "outputs": [],
   "source": [
    "parser = StrOutputParser()"
   ]
  },
  {
   "cell_type": "code",
   "execution_count": 83,
   "id": "0578e3ba",
   "metadata": {},
   "outputs": [],
   "source": [
    "main_chain = parallel_chain | prompt | llm | parser"
   ]
  },
  {
   "cell_type": "code",
   "execution_count": 84,
   "id": "74b16675",
   "metadata": {},
   "outputs": [
    {
     "data": {
      "text/plain": [
       "'The transcript covers several topics:\\n\\n1.  **Advice for building something new:** It suggests a 25-year-old wanting to build something should conduct thorough research, possess patience and passion, choose a narrow niche to focus on, and view failures as learnings.\\n2.  **Product Engineering (Camera Example):** It discusses the complexity of product engineering, highlighting various fields like radio antennas, industrial design, cameras, and software. It emphasizes the need for significant investment, time, and energy, and the importance of understanding underlying principles rather than just outsourcing. The camera is used as an example, explaining how a phone recognizes scenes (e.g., nighttime, people) and how large teams are needed to define and tune each scene for optimal photo quality.\\n3.  **Impact of Technology/AI on Learning and Jobs:** The discussion touches on how emotional intelligence makes humans unique, suggesting that while 80% of jobs might be automated, 20% will still require human involvement, leading to increased productivity. It also raises concerns about people becoming lazier (e.g., kids not using their brains) and the importance of self-motivation to leverage technology effectively. The speaker reflects on their own school experience, questioning the need to memorize information when it can be easily Googled.'"
      ]
     },
     "execution_count": 84,
     "metadata": {},
     "output_type": "execute_result"
    }
   ],
   "source": [
    "main_chain.invoke('can u summarize the video')"
   ]
  }
 ],
 "metadata": {
  "kernelspec": {
   "display_name": "venv",
   "language": "python",
   "name": "python3"
  },
  "language_info": {
   "codemirror_mode": {
    "name": "ipython",
    "version": 3
   },
   "file_extension": ".py",
   "mimetype": "text/x-python",
   "name": "python",
   "nbconvert_exporter": "python",
   "pygments_lexer": "ipython3",
   "version": "3.12.0"
  }
 },
 "nbformat": 4,
 "nbformat_minor": 5
}
